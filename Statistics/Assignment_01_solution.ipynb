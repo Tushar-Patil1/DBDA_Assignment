{
 "cells": [
  {
   "cell_type": "code",
   "execution_count": null,
   "id": "4b45b5d5",
   "metadata": {},
   "outputs": [],
   "source": [
    "# Name : Tushar Shirsath"
   ]
  },
  {
   "cell_type": "code",
   "execution_count": 1,
   "id": "4af81e31",
   "metadata": {},
   "outputs": [],
   "source": [
    "import numpy as np\n",
    "import pandas as pd"
   ]
  },
  {
   "cell_type": "code",
   "execution_count": 8,
   "id": "0a906e2c",
   "metadata": {},
   "outputs": [
    {
     "data": {
      "text/plain": [
       "array([0, 1, 2, 3, 4, 5, 6, 7, 8, 9])"
      ]
     },
     "execution_count": 8,
     "metadata": {},
     "output_type": "execute_result"
    }
   ],
   "source": [
    "# Q.1 Create a 1D array of numbers from 0 to 9\n",
    "arr = np.arange(10)\n",
    "arr"
   ]
  },
  {
   "cell_type": "code",
   "execution_count": 15,
   "id": "36815068",
   "metadata": {},
   "outputs": [
    {
     "data": {
      "text/plain": [
       "array([[ True,  True,  True],\n",
       "       [ True,  True,  True],\n",
       "       [ True,  True,  True]])"
      ]
     },
     "execution_count": 15,
     "metadata": {},
     "output_type": "execute_result"
    }
   ],
   "source": [
    "# Q.2 Create a 3×3 numpy array of all True’s\n",
    "bool_arr = np.ones((3,3), dtype=bool)\n",
    "bool_arr"
   ]
  },
  {
   "cell_type": "code",
   "execution_count": 16,
   "id": "2669900b",
   "metadata": {},
   "outputs": [
    {
     "data": {
      "text/plain": [
       "(array([1, 3, 5, 7, 9], dtype=int64),)"
      ]
     },
     "execution_count": 16,
     "metadata": {},
     "output_type": "execute_result"
    }
   ],
   "source": [
    "# Q.3 Extract all odd numbers from arr\n",
    "# \tInput:\n",
    "# \tarr = np.array([0, 1, 2, 3, 4, 5, 6, 7, 8, 9])\n",
    "\n",
    "arr = np.array([0, 1, 2, 3, 4, 5, 6, 7, 8, 9])\n",
    "op = np.where(arr % 2)\n",
    "op"
   ]
  },
  {
   "cell_type": "code",
   "execution_count": 23,
   "id": "0cd9058a",
   "metadata": {},
   "outputs": [
    {
     "data": {
      "text/plain": [
       "array([-1, -1,  2,  3,  4,  5,  6,  7,  8,  9])"
      ]
     },
     "execution_count": 23,
     "metadata": {},
     "output_type": "execute_result"
    }
   ],
   "source": [
    "# Q.4 Replace all odd numbers in arr with -1\n",
    "# \tInput:\n",
    "# \tarr = np.array([0, 1, 2, 3, 4, 5, 6, 7, 8, 9])\n",
    "\n",
    "arr = np.array([0, 1, 2, 3, 4, 5, 6, 7, 8, 9])\n",
    "arr[arr % 2] = -1\n",
    "arr"
   ]
  },
  {
   "cell_type": "code",
   "execution_count": 29,
   "id": "d007b1d9",
   "metadata": {},
   "outputs": [
    {
     "data": {
      "text/plain": [
       "array([[0, 1, 2, 3, 4],\n",
       "       [5, 6, 7, 8, 9]])"
      ]
     },
     "execution_count": 29,
     "metadata": {},
     "output_type": "execute_result"
    }
   ],
   "source": [
    "# Q.5 Convert a 1D array to a 2D array with 2 rows\n",
    "# \tInput:\n",
    "# \tarr = np.array([0, 1, 2, 3, 4, 5, 6, 7, 8, 9])\n",
    "\n",
    "arr = np.array([0, 1, 2, 3, 4, 5, 6, 7, 8, 9])\n",
    "arr2 = np.reshape(arr, (2, -1))\n",
    "arr2\n"
   ]
  },
  {
   "cell_type": "code",
   "execution_count": 34,
   "id": "30be0870",
   "metadata": {},
   "outputs": [
    {
     "name": "stdout",
     "output_type": "stream",
     "text": [
      "1.By using list method\n",
      "      Name  Age  Gender\n",
      "0   Tushar   25    Male\n",
      "1    Sumit   24    Male\n",
      "2  Twinkle   23  Female\n",
      "\n",
      "2.By using dictionary method\n",
      "   Player Team  Score\n",
      "0  Sachin   MI     50\n",
      "1   Dhoni  CSK    100\n",
      "2   Virat  BLR    200\n"
     ]
    }
   ],
   "source": [
    "# Q.NO.1] Define the different ways a DataFrame can be created in pandas?\n",
    "print('1.By using list method')\n",
    "x = [['Tushar',25,'Male'], ['Sumit',24,'Male'],['Twinkle',23,'Female']]\n",
    "df1 = pd.DataFrame(x, columns=['Name','Age','Gender'])\n",
    "print(df1)\n",
    "\n",
    "print()\n",
    "\n",
    "print('2.By using dictionary method')\n",
    "y = {\n",
    "    'Player': ['Sachin','Dhoni','Virat'],\n",
    "    'Team':['MI','CSK','BLR'],\n",
    "    'Score':[50,100,200]\n",
    "}\n",
    "df2 = pd.DataFrame(y)\n",
    "print(df2)\n"
   ]
  },
  {
   "cell_type": "code",
   "execution_count": 39,
   "id": "37e04086",
   "metadata": {},
   "outputs": [
    {
     "name": "stdout",
     "output_type": "stream",
     "text": [
      "Empty DataFrame\n",
      "Columns: [Name, Age]\n",
      "Index: []\n",
      "\n",
      "  Name  Age\n",
      "a  NaN  NaN\n",
      "b  NaN  NaN\n",
      "c  NaN  NaN\n"
     ]
    }
   ],
   "source": [
    "# Q.NO.2] How will you create an empty DataFrame in Pandas?\n",
    "df1 = pd.DataFrame(columns=['Name','Age'])\n",
    "print(df1)\n",
    "\n",
    "print()\n",
    "\n",
    "df2 = pd.DataFrame(columns = ['Name','Age'], index = ['a','b','c'])\n",
    "print(df2)\n"
   ]
  },
  {
   "cell_type": "code",
   "execution_count": null,
   "id": "3b541237",
   "metadata": {},
   "outputs": [],
   "source": [
    "# Q.NO.3] What are the key features of pandas library ?\n",
    "\n",
    "# -Fast and efficient DataFrame object with default and customized indexing.\n",
    "# -Tools for loading data into in-memory data objects from different file formats.\n",
    "# -Data alignment and integrated handling of missing data.\n",
    "# -Reshaping and pivoting of date sets.\n",
    "# -Label-based slicing, indexing and subsetting of large data sets.\n",
    "# -Columns from a data structure can be deleted or inserted.\n",
    "# -Group by data for aggregation and transformations.\n",
    "# -High performance merging and joining of data.\n",
    "# -Time Series functionality\n",
    "\n"
   ]
  },
  {
   "cell_type": "code",
   "execution_count": 49,
   "id": "f0bd54af",
   "metadata": {},
   "outputs": [
    {
     "data": {
      "text/html": [
       "<div>\n",
       "<style scoped>\n",
       "    .dataframe tbody tr th:only-of-type {\n",
       "        vertical-align: middle;\n",
       "    }\n",
       "\n",
       "    .dataframe tbody tr th {\n",
       "        vertical-align: top;\n",
       "    }\n",
       "\n",
       "    .dataframe thead th {\n",
       "        text-align: right;\n",
       "    }\n",
       "</style>\n",
       "<table border=\"1\" class=\"dataframe\">\n",
       "  <thead>\n",
       "    <tr style=\"text-align: right;\">\n",
       "      <th></th>\n",
       "      <th>column1</th>\n",
       "      <th>column2</th>\n",
       "      <th>column3</th>\n",
       "    </tr>\n",
       "  </thead>\n",
       "  <tbody>\n",
       "    <tr>\n",
       "      <th>0</th>\n",
       "      <td>1</td>\n",
       "      <td>4</td>\n",
       "      <td>7</td>\n",
       "    </tr>\n",
       "    <tr>\n",
       "      <th>1</th>\n",
       "      <td>2</td>\n",
       "      <td>5</td>\n",
       "      <td>8</td>\n",
       "    </tr>\n",
       "    <tr>\n",
       "      <th>2</th>\n",
       "      <td>3</td>\n",
       "      <td>6</td>\n",
       "      <td>9</td>\n",
       "    </tr>\n",
       "  </tbody>\n",
       "</table>\n",
       "</div>"
      ],
      "text/plain": [
       "   column1  column2  column3\n",
       "0        1        4        7\n",
       "1        2        5        8\n",
       "2        3        6        9"
      ]
     },
     "execution_count": 49,
     "metadata": {},
     "output_type": "execute_result"
    }
   ],
   "source": [
    "# Q.NO.4] Write a Pandas program to rename columns of a given DataFrame.\n",
    "\n",
    "# Sample data:\n",
    "# Original DataFrame\n",
    "# col1 col2 col3\n",
    "# 0 1 4 7\n",
    "# 1 2 5 8\n",
    "# 2 3 6 9\n",
    "# New DataFrame after renaming columns:\n",
    "# Column1 Column2 Column3\n",
    "# 0 1 4 7\n",
    "# 1 2 5 8\n",
    "# 2 3 6 9\n",
    "\n",
    "x = [[1, 4, 7], [2, 5, 8], [3, 6, 9]]\n",
    "df = pd.DataFrame(x, columns=['col1','col2','col3'])\n",
    "df.columns = ['column1','column2','column3']\n",
    "df\n"
   ]
  },
  {
   "cell_type": "code",
   "execution_count": 52,
   "id": "295481bd",
   "metadata": {},
   "outputs": [
    {
     "data": {
      "text/plain": [
       "a    100\n",
       "b    200\n",
       "c    300\n",
       "d    400\n",
       "e    800\n",
       "dtype: int64"
      ]
     },
     "execution_count": 52,
     "metadata": {},
     "output_type": "execute_result"
    }
   ],
   "source": [
    "# Q.NO.5] Write a Pandas program to convert a dictionary to a Pandas series.\n",
    "# SSample dictionary: d1 = {'a': 100, 'b': 200, 'c':300, 'd':400, 'e':800}\n",
    "\n",
    "d1 = {'a': 100, 'b': 200, 'c':300, 'd':400, 'e':800}\n",
    "df = pd.Series(d1)\n",
    "df\n"
   ]
  },
  {
   "cell_type": "code",
   "execution_count": 53,
   "id": "3f67a6db",
   "metadata": {},
   "outputs": [
    {
     "data": {
      "text/plain": [
       "33.0"
      ]
     },
     "execution_count": 53,
     "metadata": {},
     "output_type": "execute_result"
    }
   ],
   "source": [
    "# Q.No.1 Cricketer's scores in five ODI matches are as follows:\n",
    "# 12, 34, 45, 50, 24.\n",
    "# calculate mean of data using the R and python:\n",
    "\n",
    "arr = np.array([12,34,45,50,24])\n",
    "np.mean(arr)"
   ]
  },
  {
   "cell_type": "code",
   "execution_count": null,
   "id": "b01d4ff9",
   "metadata": {},
   "outputs": [],
   "source": [
    "# Q.No.2 Write down Difference Between Mean, Median and Mode(with Example).\n",
    "\n",
    "# Mean: The mean is the average where the sum of all the numbers is divided by the total number of numbers, \n",
    "# Median: The median is the middle value in the list of given numbers numerically ordered from smallest to biggest and \n",
    "# Mode : The mode is the value of the number which occurs most often in the list.\n",
    "\n",
    "# Example of Mean : To find the average of the four numbers 2, 4, 6, and 8, we need to add the number first.\n",
    "# 2 + 4 + 6+ 8 = 20\n",
    "# Divide the sum by the total number of numbers, i. e 4.\n",
    "# 20/4 = 5 is the average or mean\n",
    "\n",
    "# Example of Median: 4, 2, 8, 10, 19.\n",
    "# Arrange the numbers in ascending order. i .e., 2, 4, 8, 10, 19.\n",
    "# As the total numbers are 5, so the middle number 8 is the median here.\n",
    "\n",
    "\n",
    "# Example of Mode: 3, 3, 5, 6, 7, 7, 8, 1, 1, 1, 4, 5, 6.\n",
    "# Find the frequency of each number.\n",
    "# For number 3, it’s 2. For 5, it’s 2. For 6, it’s 2. For 7, it’s 2. For 8, it’s one. For 1, it’s 3. For 4, it’s 1.\n",
    "# The number with the highest frequency is the mode. Hence, the mode of the given sequence of numbers is 1.\n"
   ]
  },
  {
   "cell_type": "code",
   "execution_count": 55,
   "id": "445c1fdb",
   "metadata": {},
   "outputs": [
    {
     "data": {
      "text/plain": [
       "array([[0.245, 0.98 , 0.84 , 0.595, 0.7  ],\n",
       "       [0.98 , 3.92 , 3.36 , 2.38 , 2.8  ],\n",
       "       [0.84 , 3.36 , 2.88 , 2.04 , 2.4  ],\n",
       "       [0.595, 2.38 , 2.04 , 1.445, 1.7  ],\n",
       "       [0.7  , 2.8  , 2.4  , 1.7  , 2.   ]])"
      ]
     },
     "execution_count": 55,
     "metadata": {},
     "output_type": "execute_result"
    }
   ],
   "source": [
    "# Q.No.1 Daily Closing Prices of Two Stocks arranged as per returns. So calculate Covariance using R and Formula.\n",
    "\t \n",
    "# \tx: 1.8 , 1.5, 2.1 , 2.4 , 0.2\n",
    "# \ty: 2.5 , 4.3 , 4.5 , 4.1 ,2.2\n",
    "\n",
    "x = [1.8 , 1.5, 2.1 , 2.4 , 0.2]\n",
    "y = [2.5 , 4.3 , 4.5 , 4.1 ,2.2]\n",
    "cov = np.stack((x,y), axis = 1)\n",
    "np.cov(cov)"
   ]
  },
  {
   "cell_type": "code",
   "execution_count": null,
   "id": "9589256d",
   "metadata": {},
   "outputs": [],
   "source": [
    "# Q.No.2 Write down Difference Between Covariance and Correlation\n",
    "\n",
    "# Covariance\tvs Correlation\n",
    "# A.Covariance is a measure to indicate the extent to which two random variables change in tandem.\t\n",
    "# Correlation is a measure used to represent how strongly two random variables are related to each other.\n",
    "\n",
    "# B.Covariance is nothing but a measure of correlation.\n",
    "# Correlation refers to the scaled form of covariance.\n",
    "\n",
    "# C.Covariance indicates the direction of the linear relationship between variables.\n",
    "# Correlation on the other hand measures both the strength and direction of the linear relationship between two variables.\n",
    "\n",
    "# D.Covariance can vary between -∞ and +∞\t\n",
    "# Correlation ranges between -1 and +1\n",
    "\n",
    "# E.Covariance is affected by the change in scale. If all the values of one variable are multiplied by a constant and all the values of another variable are multiplied, by a similar or different constant, then the covariance is changed. \t\n",
    "# Correlation is not influenced by the change in scale.\n",
    "\n",
    "# F.Covariance assumes the units from the product of the units of the two variables.\t\n",
    "# Correlation is dimensionless, i.e. It’s a unit-free measure of the relationship between variables\n",
    "\n"
   ]
  },
  {
   "cell_type": "code",
   "execution_count": null,
   "id": "200a4eb3",
   "metadata": {},
   "outputs": [],
   "source": []
  },
  {
   "cell_type": "code",
   "execution_count": null,
   "id": "a9f3ebb8",
   "metadata": {},
   "outputs": [],
   "source": []
  },
  {
   "cell_type": "code",
   "execution_count": null,
   "id": "391b7f0c",
   "metadata": {},
   "outputs": [],
   "source": []
  },
  {
   "cell_type": "code",
   "execution_count": null,
   "id": "7c484675",
   "metadata": {},
   "outputs": [],
   "source": []
  },
  {
   "cell_type": "code",
   "execution_count": null,
   "id": "35cad746",
   "metadata": {},
   "outputs": [],
   "source": []
  },
  {
   "cell_type": "code",
   "execution_count": null,
   "id": "3d0dbd55",
   "metadata": {},
   "outputs": [],
   "source": []
  },
  {
   "cell_type": "code",
   "execution_count": null,
   "id": "f7596449",
   "metadata": {},
   "outputs": [],
   "source": []
  },
  {
   "cell_type": "code",
   "execution_count": null,
   "id": "65d4fc18",
   "metadata": {},
   "outputs": [],
   "source": []
  },
  {
   "cell_type": "code",
   "execution_count": null,
   "id": "f031e8ae",
   "metadata": {},
   "outputs": [],
   "source": []
  },
  {
   "cell_type": "code",
   "execution_count": null,
   "id": "cf76340a",
   "metadata": {},
   "outputs": [],
   "source": []
  },
  {
   "cell_type": "code",
   "execution_count": null,
   "id": "697221c2",
   "metadata": {},
   "outputs": [],
   "source": []
  },
  {
   "cell_type": "code",
   "execution_count": null,
   "id": "099383c4",
   "metadata": {},
   "outputs": [],
   "source": []
  },
  {
   "cell_type": "code",
   "execution_count": null,
   "id": "18f656af",
   "metadata": {},
   "outputs": [],
   "source": []
  },
  {
   "cell_type": "code",
   "execution_count": null,
   "id": "f23293ac",
   "metadata": {},
   "outputs": [],
   "source": []
  },
  {
   "cell_type": "code",
   "execution_count": null,
   "id": "7d952b4c",
   "metadata": {},
   "outputs": [],
   "source": []
  },
  {
   "cell_type": "code",
   "execution_count": null,
   "id": "8a71c3fb",
   "metadata": {},
   "outputs": [],
   "source": []
  },
  {
   "cell_type": "code",
   "execution_count": null,
   "id": "406f7f80",
   "metadata": {},
   "outputs": [],
   "source": []
  },
  {
   "cell_type": "code",
   "execution_count": null,
   "id": "9664446c",
   "metadata": {},
   "outputs": [],
   "source": []
  },
  {
   "cell_type": "code",
   "execution_count": null,
   "id": "52755030",
   "metadata": {},
   "outputs": [],
   "source": []
  },
  {
   "cell_type": "code",
   "execution_count": null,
   "id": "6aa74e84",
   "metadata": {},
   "outputs": [],
   "source": []
  },
  {
   "cell_type": "code",
   "execution_count": null,
   "id": "7d3cd7aa",
   "metadata": {},
   "outputs": [],
   "source": []
  },
  {
   "cell_type": "code",
   "execution_count": null,
   "id": "01aacde7",
   "metadata": {},
   "outputs": [],
   "source": []
  },
  {
   "cell_type": "code",
   "execution_count": null,
   "id": "8b6f9e57",
   "metadata": {},
   "outputs": [],
   "source": []
  },
  {
   "cell_type": "code",
   "execution_count": null,
   "id": "778dcf0e",
   "metadata": {},
   "outputs": [],
   "source": []
  },
  {
   "cell_type": "code",
   "execution_count": null,
   "id": "aa2067b4",
   "metadata": {},
   "outputs": [],
   "source": []
  },
  {
   "cell_type": "code",
   "execution_count": null,
   "id": "633482b7",
   "metadata": {},
   "outputs": [],
   "source": []
  },
  {
   "cell_type": "code",
   "execution_count": null,
   "id": "12fdc547",
   "metadata": {},
   "outputs": [],
   "source": []
  },
  {
   "cell_type": "code",
   "execution_count": null,
   "id": "915b0939",
   "metadata": {},
   "outputs": [],
   "source": []
  },
  {
   "cell_type": "code",
   "execution_count": null,
   "id": "f384eac3",
   "metadata": {},
   "outputs": [],
   "source": []
  },
  {
   "cell_type": "code",
   "execution_count": null,
   "id": "578a2306",
   "metadata": {},
   "outputs": [],
   "source": []
  },
  {
   "cell_type": "code",
   "execution_count": null,
   "id": "ba6f7d40",
   "metadata": {},
   "outputs": [],
   "source": []
  },
  {
   "cell_type": "code",
   "execution_count": null,
   "id": "60f5ff67",
   "metadata": {},
   "outputs": [],
   "source": []
  },
  {
   "cell_type": "code",
   "execution_count": null,
   "id": "0d8e77ce",
   "metadata": {},
   "outputs": [],
   "source": []
  },
  {
   "cell_type": "code",
   "execution_count": null,
   "id": "0d9cf834",
   "metadata": {},
   "outputs": [],
   "source": []
  },
  {
   "cell_type": "code",
   "execution_count": null,
   "id": "fe1f2fb6",
   "metadata": {},
   "outputs": [],
   "source": []
  },
  {
   "cell_type": "code",
   "execution_count": null,
   "id": "5cf2b33b",
   "metadata": {},
   "outputs": [],
   "source": []
  },
  {
   "cell_type": "code",
   "execution_count": null,
   "id": "4806205e",
   "metadata": {},
   "outputs": [],
   "source": []
  },
  {
   "cell_type": "code",
   "execution_count": null,
   "id": "2cba49ac",
   "metadata": {},
   "outputs": [],
   "source": []
  },
  {
   "cell_type": "code",
   "execution_count": null,
   "id": "87385b5c",
   "metadata": {},
   "outputs": [],
   "source": []
  },
  {
   "cell_type": "code",
   "execution_count": null,
   "id": "dfb4af57",
   "metadata": {},
   "outputs": [],
   "source": []
  }
 ],
 "metadata": {
  "kernelspec": {
   "display_name": "Python 3 (ipykernel)",
   "language": "python",
   "name": "python3"
  },
  "language_info": {
   "codemirror_mode": {
    "name": "ipython",
    "version": 3
   },
   "file_extension": ".py",
   "mimetype": "text/x-python",
   "name": "python",
   "nbconvert_exporter": "python",
   "pygments_lexer": "ipython3",
   "version": "3.9.13"
  }
 },
 "nbformat": 4,
 "nbformat_minor": 5
}
